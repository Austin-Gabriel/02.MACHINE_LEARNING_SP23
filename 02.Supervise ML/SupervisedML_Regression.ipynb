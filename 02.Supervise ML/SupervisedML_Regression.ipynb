{
 "cells": [
  {
   "cell_type": "code",
   "execution_count": 1,
   "id": "230b5ed3",
   "metadata": {},
   "outputs": [],
   "source": [
    "import pandas as pd\n",
    "import numpy as np\n",
    "import os #Interacts with the operating system, e.g. paths, mkdir\n",
    "import seaborn as sns\n",
    "import matplotlib.pyplot as plt\n",
    "from mpl_toolkits.mplot3d import Axes3D # Allows ploting in a 3D graph\n",
    "\n",
    "from sklearn.preprocessing import StandardScaler,LabelEncoder\n",
    "from sklearn.cluster import KMeans\n",
    "from sklearn.metrics import confusion_matrix,classification_report\n",
    "\n",
    "from sklearn.preprocessing import MinMaxScaler\n",
    "from sklearn.model_selection import train_test_split\n"
   ]
  },
  {
   "cell_type": "code",
   "execution_count": 2,
   "id": "012b1a7f",
   "metadata": {},
   "outputs": [],
   "source": [
    "file_path = r'C:/Users/crist/Documents/02.MSU_MsDataScience/2024.SPRING/04.CSIT598_03SP24_MACHINE-LEARNING/02.MACHINE_LEARNING_SP23/PowerPlantsintheU_Export_TableToExcel.xlsx'\n",
    "df = pd.read_excel(file_path)"
   ]
  },
  {
   "cell_type": "code",
   "execution_count": 48,
   "id": "d64b2a31",
   "metadata": {},
   "outputs": [
    {
     "data": {
      "text/html": [
       "<div>\n",
       "<style scoped>\n",
       "    .dataframe tbody tr th:only-of-type {\n",
       "        vertical-align: middle;\n",
       "    }\n",
       "\n",
       "    .dataframe tbody tr th {\n",
       "        vertical-align: top;\n",
       "    }\n",
       "\n",
       "    .dataframe thead th {\n",
       "        text-align: right;\n",
       "    }\n",
       "</style>\n",
       "<table border=\"1\" class=\"dataframe\">\n",
       "  <thead>\n",
       "    <tr style=\"text-align: right;\">\n",
       "      <th></th>\n",
       "      <th>Install_MW</th>\n",
       "      <th>Total_MW</th>\n",
       "      <th>Longitude</th>\n",
       "      <th>Latitude</th>\n",
       "      <th>PimSource_encoded</th>\n",
       "      <th>Sector_encoded</th>\n",
       "    </tr>\n",
       "  </thead>\n",
       "  <tbody>\n",
       "    <tr>\n",
       "      <th>0</th>\n",
       "      <td>2.3</td>\n",
       "      <td>2.3</td>\n",
       "      <td>-89.685000</td>\n",
       "      <td>45.178600</td>\n",
       "      <td>4</td>\n",
       "      <td>2</td>\n",
       "    </tr>\n",
       "    <tr>\n",
       "      <th>1</th>\n",
       "      <td>1.3</td>\n",
       "      <td>1.3</td>\n",
       "      <td>-87.758600</td>\n",
       "      <td>45.113600</td>\n",
       "      <td>4</td>\n",
       "      <td>2</td>\n",
       "    </tr>\n",
       "    <tr>\n",
       "      <th>2</th>\n",
       "      <td>91.0</td>\n",
       "      <td>79.0</td>\n",
       "      <td>-88.008600</td>\n",
       "      <td>44.540000</td>\n",
       "      <td>5</td>\n",
       "      <td>2</td>\n",
       "    </tr>\n",
       "    <tr>\n",
       "      <th>3</th>\n",
       "      <td>3.8</td>\n",
       "      <td>3.8</td>\n",
       "      <td>-88.067800</td>\n",
       "      <td>45.233300</td>\n",
       "      <td>4</td>\n",
       "      <td>2</td>\n",
       "    </tr>\n",
       "    <tr>\n",
       "      <th>4</th>\n",
       "      <td>2.6</td>\n",
       "      <td>2.6</td>\n",
       "      <td>-89.730600</td>\n",
       "      <td>45.441100</td>\n",
       "      <td>4</td>\n",
       "      <td>2</td>\n",
       "    </tr>\n",
       "    <tr>\n",
       "      <th>...</th>\n",
       "      <td>...</td>\n",
       "      <td>...</td>\n",
       "      <td>...</td>\n",
       "      <td>...</td>\n",
       "      <td>...</td>\n",
       "      <td>...</td>\n",
       "    </tr>\n",
       "    <tr>\n",
       "      <th>12003</th>\n",
       "      <td>3.0</td>\n",
       "      <td>3.0</td>\n",
       "      <td>-82.375953</td>\n",
       "      <td>35.380139</td>\n",
       "      <td>10</td>\n",
       "      <td>4</td>\n",
       "    </tr>\n",
       "    <tr>\n",
       "      <th>12004</th>\n",
       "      <td>3.0</td>\n",
       "      <td>3.0</td>\n",
       "      <td>-79.367698</td>\n",
       "      <td>36.009321</td>\n",
       "      <td>10</td>\n",
       "      <td>4</td>\n",
       "    </tr>\n",
       "    <tr>\n",
       "      <th>12005</th>\n",
       "      <td>5.0</td>\n",
       "      <td>5.0</td>\n",
       "      <td>-79.736312</td>\n",
       "      <td>35.273434</td>\n",
       "      <td>10</td>\n",
       "      <td>4</td>\n",
       "    </tr>\n",
       "    <tr>\n",
       "      <th>12006</th>\n",
       "      <td>1.4</td>\n",
       "      <td>1.4</td>\n",
       "      <td>-73.910480</td>\n",
       "      <td>42.876570</td>\n",
       "      <td>10</td>\n",
       "      <td>4</td>\n",
       "    </tr>\n",
       "    <tr>\n",
       "      <th>12007</th>\n",
       "      <td>1.1</td>\n",
       "      <td>1.1</td>\n",
       "      <td>-77.275900</td>\n",
       "      <td>41.838000</td>\n",
       "      <td>10</td>\n",
       "      <td>4</td>\n",
       "    </tr>\n",
       "  </tbody>\n",
       "</table>\n",
       "<p>12008 rows × 6 columns</p>\n",
       "</div>"
      ],
      "text/plain": [
       "       Install_MW  Total_MW  Longitude   Latitude  PimSource_encoded  \\\n",
       "0             2.3       2.3 -89.685000  45.178600                  4   \n",
       "1             1.3       1.3 -87.758600  45.113600                  4   \n",
       "2            91.0      79.0 -88.008600  44.540000                  5   \n",
       "3             3.8       3.8 -88.067800  45.233300                  4   \n",
       "4             2.6       2.6 -89.730600  45.441100                  4   \n",
       "...           ...       ...        ...        ...                ...   \n",
       "12003         3.0       3.0 -82.375953  35.380139                 10   \n",
       "12004         3.0       3.0 -79.367698  36.009321                 10   \n",
       "12005         5.0       5.0 -79.736312  35.273434                 10   \n",
       "12006         1.4       1.4 -73.910480  42.876570                 10   \n",
       "12007         1.1       1.1 -77.275900  41.838000                 10   \n",
       "\n",
       "       Sector_encoded  \n",
       "0                   2  \n",
       "1                   2  \n",
       "2                   2  \n",
       "3                   2  \n",
       "4                   2  \n",
       "...               ...  \n",
       "12003               4  \n",
       "12004               4  \n",
       "12005               4  \n",
       "12006               4  \n",
       "12007               4  \n",
       "\n",
       "[12008 rows x 6 columns]"
      ]
     },
     "execution_count": 48,
     "metadata": {},
     "output_type": "execute_result"
    }
   ],
   "source": [
    "# Select columns to analyze\n",
    "Scolumns = ['sector_nam','PrimSource','Install_MW','Total_MW','Longitude','Latitude']\n",
    "\n",
    "label_encoder = LabelEncoder()\n",
    "\n",
    "data_encoded = df[Scolumns].copy()\n",
    "\n",
    "data_encoded['Sector_encoded'] = label_encoder.fit_transform(df[Scolumns].sector_nam)\n",
    "data_encoded['PimSource_encoded'] = label_encoder.fit_transform(df[Scolumns].PrimSource)\n",
    "\n",
    "\n",
    "# # One-hot encoding\n",
    "# data_encoded = pd.get_dummies(df[Scolumns], columns = ['PrimSource'], dtype='int')\n",
    "\n",
    "data_encoded = data_encoded[['Install_MW','Total_MW','Longitude','Latitude','PimSource_encoded','Sector_encoded']]\n",
    "data_encoded       "
   ]
  },
  {
   "cell_type": "code",
   "execution_count": 49,
   "id": "af02cf5d",
   "metadata": {},
   "outputs": [
    {
     "name": "stdout",
     "output_type": "stream",
     "text": [
      "Shape of features (X): (12008, 5)\n",
      "Shape of target variable (y): (12008,)\n"
     ]
    }
   ],
   "source": [
    "X = data_encoded.drop('Total_MW',axis=1)\n",
    "y = data_encoded['Total_MW']\n",
    "print(\"Shape of features (X):\", X.shape)\n",
    "print(\"Shape of target variable (y):\", y.shape)"
   ]
  },
  {
   "cell_type": "markdown",
   "id": "a1561fd2",
   "metadata": {},
   "source": [
    "## Scale the data"
   ]
  },
  {
   "cell_type": "code",
   "execution_count": 50,
   "id": "8c7540c0",
   "metadata": {},
   "outputs": [],
   "source": [
    "scaler = MinMaxScaler()\n",
    "\n",
    "# Fit the scaler to your training data and transform the features\n",
    "X_scaled = scaler.fit_transform(X)"
   ]
  },
  {
   "cell_type": "code",
   "execution_count": 51,
   "id": "501dbc52",
   "metadata": {},
   "outputs": [
    {
     "data": {
      "text/plain": [
       "array([[2.93741830e-04, 7.70696422e-01, 5.10479777e-01, 3.63636364e-01,\n",
       "        3.33333333e-01],\n",
       "       [1.46870915e-04, 7.88796092e-01, 5.09261291e-01, 3.63636364e-01,\n",
       "        3.33333333e-01],\n",
       "       [1.33211920e-02, 7.86447194e-01, 4.98508620e-01, 4.54545455e-01,\n",
       "        3.33333333e-01],\n",
       "       ...,\n",
       "       [6.90293301e-04, 8.64170244e-01, 3.24798132e-01, 9.09090909e-01,\n",
       "        6.66666667e-01],\n",
       "       [1.61558007e-04, 9.18907390e-01, 4.67326061e-01, 9.09090909e-01,\n",
       "        6.66666667e-01],\n",
       "       [1.17496732e-04, 8.87287273e-01, 4.47857091e-01, 9.09090909e-01,\n",
       "        6.66666667e-01]])"
      ]
     },
     "execution_count": 51,
     "metadata": {},
     "output_type": "execute_result"
    }
   ],
   "source": [
    "X_scaled"
   ]
  },
  {
   "cell_type": "markdown",
   "id": "ede81d69",
   "metadata": {},
   "source": [
    "# Decision Trees"
   ]
  },
  {
   "cell_type": "code",
   "execution_count": 71,
   "id": "224bcdd5",
   "metadata": {},
   "outputs": [
    {
     "name": "stdout",
     "output_type": "stream",
     "text": [
      "Mean Squared Error: 2289.9702309885315\n"
     ]
    }
   ],
   "source": [
    "from sklearn.tree import DecisionTreeRegressor\n",
    "from sklearn.model_selection import train_test_split\n",
    "from sklearn.metrics import mean_squared_error\n",
    "\n",
    "# Split the data into training and testing sets\n",
    "X_train, X_test, y_train, y_test = train_test_split(X_scaled, y, test_size=0.2, random_state=42)\n",
    "\n",
    "# Initialize the Decision Tree Classifier\n",
    "decision_tree = DecisionTreeRegressor(\n",
    "    max_depth=6, # increasing could result in overfitting\n",
    "    min_samples_split=120, #increasing can prevent overfitting\n",
    "    min_samples_leaf=8, # increasing can prevent overfitting\n",
    "    max_features='sqrt'\n",
    ",random_state=45)\n",
    "\n",
    "# Train the model\n",
    "decision_tree.fit(X_train, y_train)\n",
    "\n",
    "# Make predictions\n",
    "y_pred_dt = decision_tree.predict(X_test)\n",
    "\n",
    "# Evaluate the model\n",
    "mse = mean_squared_error(y_test, y_pred_dt)\n",
    "print(\"Mean Squared Error:\", mse)\n"
   ]
  },
  {
   "cell_type": "markdown",
   "id": "d3880cbd",
   "metadata": {},
   "source": [
    "#### Feature importance"
   ]
  },
  {
   "cell_type": "code",
   "execution_count": 72,
   "id": "01c6291b",
   "metadata": {},
   "outputs": [
    {
     "name": "stdout",
     "output_type": "stream",
     "text": [
      "Install_MW: 0.9998410723676208\n",
      "PimSource_encoded: 6.69192503592767e-05\n",
      "Latitude: 5.339367428873815e-05\n",
      "Longitude: 2.9033663786210874e-05\n",
      "Sector_encoded: 9.581043944963772e-06\n"
     ]
    }
   ],
   "source": [
    "# Access feature importance\n",
    "feature_importance = decision_tree.feature_importances_\n",
    "\n",
    "# Sort feature importance in descending order\n",
    "sorted_indices = np.argsort(feature_importance)[::-1]\n",
    "\n",
    "# Print feature importance\n",
    "for i in sorted_indices:\n",
    "    print(f\"{X.columns[i]}: {feature_importance[i]}\")\n"
   ]
  },
  {
   "cell_type": "markdown",
   "id": "76e2e1d1",
   "metadata": {},
   "source": [
    "#### Visualize the tree"
   ]
  },
  {
   "cell_type": "code",
   "execution_count": null,
   "id": "1f840675",
   "metadata": {},
   "outputs": [],
   "source": [
    "from sklearn.tree import plot_tree\n",
    "import matplotlib.pyplot as plt\n",
    "\n",
    "# Plot the decision tree\n",
    "plt.figure(figsize=(20, 10))  # Adjust the figure size as needed\n",
    "plot_tree(decision_tree, filled=True, feature_names=X.columns)\n",
    "plt.show()\n"
   ]
  },
  {
   "cell_type": "markdown",
   "id": "b3dd6e30",
   "metadata": {},
   "source": [
    "## Cross-Validation Decision Tree"
   ]
  },
  {
   "cell_type": "code",
   "execution_count": 75,
   "id": "21cf2af1",
   "metadata": {},
   "outputs": [
    {
     "name": "stdout",
     "output_type": "stream",
     "text": [
      "MSE scores for each fold: [1100.316623646961, 9637.627024354704, 630.081162572856, 5550.426869012911, 1267.7000291545187]\n",
      "Average MSE: 3637.2303417483904\n"
     ]
    }
   ],
   "source": [
    "from sklearn.model_selection import KFold\n",
    "from sklearn.metrics import mean_squared_error\n",
    "import numpy as np\n",
    "\n",
    "# Define the number of folds for cross-validation\n",
    "n_splits = 5  # You can adjust the number of splits as needed\n",
    "\n",
    "# Initialize KFold cross-validation\n",
    "kf = KFold(n_splits=n_splits, shuffle=True, random_state=42)\n",
    "\n",
    "# Initialize an empty list to store MSE scores for each fold\n",
    "mse_scores = []\n",
    "\n",
    "# Perform cross-validation\n",
    "for train_index, val_index in kf.split(X_scaled):\n",
    "    # Split the data into training and validation sets for this fold\n",
    "    X_train_fold, X_val_fold = X_scaled[train_index], X_scaled[val_index]\n",
    "    y_train_fold, y_val_fold = y[train_index], y[val_index]\n",
    "    \n",
    "    # Train the model on the training fold\n",
    "    decision_tree = DecisionTreeRegressor(random_state=42)\n",
    "    decision_tree.fit(X_train_fold, y_train_fold)\n",
    "    \n",
    "    # Make predictions on the validation fold\n",
    "    y_pred_fold = decision_tree.predict(X_val_fold)\n",
    "    \n",
    "    # Calculate MSE for this fold and append it to the list\n",
    "    mse_fold = mean_squared_error(y_val_fold, y_pred_fold)\n",
    "    mse_scores.append(mse_fold)\n",
    "\n",
    "# Calculate the average MSE across all folds\n",
    "average_mse = np.mean(mse_scores)\n",
    "\n",
    "# Optionally, you can print or display the MSE scores for each fold\n",
    "print(\"MSE scores for each fold:\", mse_scores)\n",
    "print(\"Average MSE:\", average_mse)\n"
   ]
  },
  {
   "cell_type": "markdown",
   "id": "7e454ef8",
   "metadata": {},
   "source": [
    "# Random Forest"
   ]
  },
  {
   "cell_type": "code",
   "execution_count": 77,
   "id": "cd06a476",
   "metadata": {},
   "outputs": [
    {
     "name": "stdout",
     "output_type": "stream",
     "text": [
      "Mean Squared Error: 713.9466894793256\n",
      "Feature 0: Importance = 0.9934594392909663\n",
      "Feature 1: Importance = 0.0019755610979831167\n",
      "Feature 2: Importance = 0.00321242725600475\n",
      "Feature 3: Importance = 0.0011263409110796813\n",
      "Feature 4: Importance = 0.00022623144396616423\n"
     ]
    }
   ],
   "source": [
    "from sklearn.ensemble import RandomForestRegressor\n",
    "from sklearn.metrics import mean_squared_error\n",
    "\n",
    "# Initialize the Random Forest Regressor\n",
    "random_forest = RandomForestRegressor(n_estimators=100, random_state=42)\n",
    "\n",
    "# Train the model\n",
    "random_forest.fit(X_train, y_train)\n",
    "\n",
    "# Make predictions\n",
    "y_pred_rf = random_forest.predict(X_test)\n",
    "\n",
    "# Evaluate the model\n",
    "mse = mean_squared_error(y_test, y_pred_rf)\n",
    "print(\"Mean Squared Error:\", mse)\n",
    "\n",
    "# Access feature importance\n",
    "feature_importance = random_forest.feature_importances_\n",
    "\n",
    "# Interpret feature importance\n",
    "for i, importance in enumerate(feature_importance):\n",
    "    print(f\"Feature {i}: Importance = {importance}\")\n"
   ]
  },
  {
   "cell_type": "code",
   "execution_count": 80,
   "id": "b473a2f7",
   "metadata": {},
   "outputs": [
    {
     "name": "stdout",
     "output_type": "stream",
     "text": [
      "Mean Squared Error (MSE): 713.9466894793256\n",
      "Mean Absolute Error (MAE): 6.703841211027851\n",
      "R-squared: 0.9916474672765212\n"
     ]
    }
   ],
   "source": [
    "from sklearn.metrics import mean_squared_error, mean_absolute_error, r2_score\n",
    "\n",
    "# Calculate Mean Squared Error (MSE)\n",
    "mse = mean_squared_error(y_test, y_pred_rf)\n",
    "\n",
    "# Calculate Mean Absolute Error (MAE)\n",
    "mae = mean_absolute_error(y_test, y_pred_rf)\n",
    "\n",
    "# Calculate R-squared\n",
    "r2 = r2_score(y_test, y_pred_rf)\n",
    "\n",
    "print(\"Mean Squared Error (MSE):\", mse)\n",
    "print(\"Mean Absolute Error (MAE):\", mae)\n",
    "print(\"R-squared:\", r2)\n"
   ]
  },
  {
   "cell_type": "raw",
   "id": "748fb5bf",
   "metadata": {},
   "source": [
    "Mean Squared Error (MSE): The MSE measures the average squared difference between the predicted values and the true values. A lower MSE indicates better performance. In your case, the MSE of 713.95 indicates that, on average, the squared difference between the predicted and true values is relatively small.\n",
    "\n",
    "Mean Absolute Error (MAE): The MAE measures the average absolute difference between the predicted values and the true values. Like MSE, a lower MAE indicates better performance. Your MAE of 6.70 suggests that, on average, the absolute difference between the predicted and true values is quite small.\n",
    "\n",
    "R-squared (R2): R-squared is a measure of how well the predictions of the model explain the variability of the true values. It ranges from 0 to 1, with 1 indicating a perfect fit. Your R-squared value of 0.992 suggests that your model explains approximately 99.2% of the variance in the target variable, which is very high and indicates a strong predictive performance."
   ]
  },
  {
   "cell_type": "markdown",
   "id": "cfefede8",
   "metadata": {},
   "source": [
    "### Feature Importance Plot"
   ]
  },
  {
   "cell_type": "code",
   "execution_count": 81,
   "id": "f659530b",
   "metadata": {},
   "outputs": [
    {
     "data": {
      "image/png": "[encoded data removed]",
      "text/plain": [
       "<Figure size 1000x600 with 1 Axes>"
      ]
     },
     "metadata": {},
     "output_type": "display_data"
    }
   ],
   "source": [
    "import matplotlib.pyplot as plt\n",
    "\n",
    "# Get feature importances from the trained model\n",
    "feature_importances = random_forest.feature_importances_\n",
    "\n",
    "# Get feature names from the dataset\n",
    "feature_names = X.columns\n",
    "\n",
    "# Sort feature importances in descending order\n",
    "sorted_indices = np.argsort(feature_importances)[::-1]\n",
    "\n",
    "# Plot feature importances\n",
    "plt.figure(figsize=(10, 6))\n",
    "plt.barh(range(len(sorted_indices)), feature_importances[sorted_indices], align='center')\n",
    "plt.yticks(range(len(sorted_indices)), feature_names[sorted_indices])\n",
    "plt.xlabel('Feature Importance')\n",
    "plt.ylabel('Features')\n",
    "plt.title('Feature Importance Plot')\n",
    "plt.show()\n"
   ]
  },
  {
   "cell_type": "code",
   "execution_count": 84,
   "id": "50fd99c8",
   "metadata": {},
   "outputs": [
    {
     "ename": "ModuleNotFoundError",
     "evalue": "No module named 'pdpbox'",
     "output_type": "error",
     "traceback": [
      "\u001b[1;31m---------------------------------------------------------------------------\u001b[0m",
      "\u001b[1;31mModuleNotFoundError\u001b[0m                       Traceback (most recent call last)",
      "Cell \u001b[1;32mIn[84], line 1\u001b[0m\n\u001b[1;32m----> 1\u001b[0m \u001b[38;5;28;01mfrom\u001b[39;00m \u001b[38;5;21;01mpdpbox\u001b[39;00m \u001b[38;5;28;01mimport\u001b[39;00m pdp, get_dataset, info_plots\n\u001b[0;32m      3\u001b[0m \u001b[38;5;66;03m# Create partial dependence plots\u001b[39;00m\n\u001b[0;32m      4\u001b[0m pdp_goals \u001b[38;5;241m=\u001b[39m pdp\u001b[38;5;241m.\u001b[39mpdp_isolate(model\u001b[38;5;241m=\u001b[39mrandom_forest, dataset\u001b[38;5;241m=\u001b[39mX_train, model_features\u001b[38;5;241m=\u001b[39mX_train\u001b[38;5;241m.\u001b[39mcolumns, feature\u001b[38;5;241m=\u001b[39m[\u001b[38;5;124m'\u001b[39m\u001b[38;5;124mFeature1\u001b[39m\u001b[38;5;124m'\u001b[39m, \u001b[38;5;124m'\u001b[39m\u001b[38;5;124mFeature2\u001b[39m\u001b[38;5;124m'\u001b[39m])\n",
      "\u001b[1;31mModuleNotFoundError\u001b[0m: No module named 'pdpbox'"
     ]
    }
   ],
   "source": [
    "from pdpbox import pdp, get_dataset, info_plots\n",
    "\n",
    "# Create partial dependence plots\n",
    "pdp_goals = pdp.pdp_isolate(model=random_forest, dataset=X_train, model_features=X_train.columns, feature=['Feature1', 'Feature2'])\n",
    "pdp.pdp_plot(pdp_goals, 'Feature1 & Feature2')\n",
    "plt.show()\n"
   ]
  },
  {
   "cell_type": "markdown",
   "id": "17ab5195",
   "metadata": {},
   "source": [
    "### Permutation Importance"
   ]
  },
  {
   "cell_type": "code",
   "execution_count": null,
   "id": "8fc508e6",
   "metadata": {},
   "outputs": [],
   "source": [
    "X"
   ]
  },
  {
   "cell_type": "code",
   "execution_count": null,
   "id": "56c5e835",
   "metadata": {},
   "outputs": [],
   "source": [
    "from sklearn.inspection import permutation_importance\n",
    "\n",
    "# Compute permutation importance\n",
    "perm_importance = permutation_importance(rf, X_test, y_test)\n",
    "sorted_indices = np.argsort(perm_importance.importances_mean)[::-1]\n",
    "\n",
    "# Plot permutation importance\n",
    "plt.figure(figsize=(10, 12))\n",
    "plt.barh(range(len(sorted_indices)), perm_importance.importances_mean[sorted_indices], align='center')\n",
    "plt.yticks(range(len(sorted_indices)), X.columns[sorted_indices])\n",
    "plt.xlabel('Permutation Importance')\n",
    "plt.ylabel('Features')\n",
    "plt.title('Permutation Importance Plot')\n",
    "plt.show()\n"
   ]
  },
  {
   "cell_type": "markdown",
   "id": "38bc14b3",
   "metadata": {},
   "source": [
    "### Partial Dependence Plots"
   ]
  },
  {
   "cell_type": "code",
   "execution_count": null,
   "id": "4771ed16",
   "metadata": {},
   "outputs": [],
   "source": [
    "python.exe -m pip install --upgrade pip\n"
   ]
  },
  {
   "cell_type": "raw",
   "id": "4fb492e0",
   "metadata": {},
   "source": [
    "from sklearn.inspection import plot_partial_dependence\n",
    "\n",
    "# Select features for partial dependence plot\n",
    "features = [0, 1]  # Example features\n",
    "\n",
    "# Plot partial dependence\n",
    "plot_partial_dependence(rf, X_train, features)\n",
    "plt.show()\n"
   ]
  },
  {
   "cell_type": "code",
   "execution_count": null,
   "id": "97be4ef3",
   "metadata": {},
   "outputs": [],
   "source": [
    "import shap\n",
    "\n",
    "# Calculate SHAP values\n",
    "explainer = shap.TreeExplainer(rf)\n",
    "shap_values = explainer.shap_values(X_test)\n",
    "\n",
    "# Summary plot\n",
    "shap.summary_plot(shap_values, X_test)\n"
   ]
  },
  {
   "cell_type": "markdown",
   "id": "a5631244",
   "metadata": {},
   "source": [
    "# KNN"
   ]
  },
  {
   "cell_type": "code",
   "execution_count": 86,
   "id": "6e4627a8",
   "metadata": {},
   "outputs": [
    {
     "name": "stdout",
     "output_type": "stream",
     "text": [
      "Mean Squared Error: 3681.213105245629\n"
     ]
    }
   ],
   "source": [
    "from sklearn.neighbors import KNeighborsRegressor\n",
    "\n",
    "knn_regressor = KNeighborsRegressor(n_neighbors=5)  # You can adjust the number of neighbors (K) as needed\n",
    "\n",
    "# Train the model\n",
    "knn_regressor.fit(X_train, y_train)\n",
    "\n",
    "# Make predictions\n",
    "y_pred = knn_regressor.predict(X_test)\n",
    "\n",
    "# Evaluate the model\n",
    "mse = mean_squared_error(y_test, y_pred)\n",
    "print(\"Mean Squared Error:\", mse)\n"
   ]
  },
  {
   "cell_type": "code",
   "execution_count": null,
   "id": "48a2f61e",
   "metadata": {},
   "outputs": [],
   "source": []
  },
  {
   "cell_type": "code",
   "execution_count": 89,
   "id": "e24eab73",
   "metadata": {},
   "outputs": [
    {
     "name": "stdout",
     "output_type": "stream",
     "text": [
      "Mean Squared Error: 18880.64736405939\n"
     ]
    }
   ],
   "source": [
    "from sklearn.svm import SVR\n",
    "from sklearn.model_selection import train_test_split\n",
    "from sklearn.metrics import mean_squared_error\n",
    "\n",
    "# Assuming you have your features in X and target variable in y\n",
    "\n",
    "# Initialize the SVM regressor\n",
    "svm_regressor = SVR(kernel='poly')  # You can specify different kernels like 'linear', 'poly', 'sigmoid', etc.\n",
    "\n",
    "# Train the model\n",
    "svm_regressor.fit(X_train, y_train)\n",
    "\n",
    "# Make predictions\n",
    "y_pred = svm_regressor.predict(X_test)\n",
    "\n",
    "# Evaluate the model\n",
    "mse = mean_squared_error(y_test, y_pred)\n",
    "print(\"Mean Squared Error:\", mse)\n"
   ]
  },
  {
   "cell_type": "markdown",
   "id": "dc72880a",
   "metadata": {},
   "source": [
    "# Pytorch"
   ]
  },
  {
   "cell_type": "code",
   "execution_count": null,
   "id": "60dd345d",
   "metadata": {},
   "outputs": [],
   "source": [
    "import torch\n",
    "from torch.utils.data import DataLoader, TensorDataset\n",
    "from sklearn.model_selection import train_test_split\n",
    "\n",
    "# Convert features and target variable to PyTorch tensors\n",
    "X_tensor = torch.tensor(X_scaled, dtype=torch.float32)\n",
    "y_tensor = torch.tensor(y_encoded, dtype=torch.long)\n",
    "\n",
    "# Split the data into training and testing sets\n",
    "X_train, X_test, y_train, y_test = train_test_split(X_tensor, y_tensor, test_size=0.2, random_state=42)\n",
    "\n",
    "# Create data loaders\n",
    "train_dataset = TensorDataset(X_train, y_train)\n",
    "test_dataset = TensorDataset(X_test, y_test)\n",
    "\n",
    "batch_size = 64\n",
    "train_loader = DataLoader(train_dataset, batch_size=batch_size, shuffle=True)\n",
    "test_loader = DataLoader(test_dataset, batch_size=batch_size)"
   ]
  },
  {
   "cell_type": "code",
   "execution_count": null,
   "id": "b11b3dcd",
   "metadata": {},
   "outputs": [],
   "source": [
    "# Check the shapes\n",
    "print(\"Shape of features (X_tensor):\", X_tensor.shape)\n",
    "print(\"Shape of target variable (y_tensor):\", y_tensor.shape)"
   ]
  },
  {
   "cell_type": "code",
   "execution_count": null,
   "id": "f459c986",
   "metadata": {},
   "outputs": [],
   "source": [
    "import torch\n",
    "import torch.nn as nn\n",
    "from torch.utils.data import DataLoader, TensorDataset\n",
    "import numpy as np\n",
    "from sklearn.model_selection import train_test_split\n",
    "from sklearn.preprocessing import LabelEncoder\n",
    "from sklearn.metrics import accuracy_score\n",
    "\n",
    "# Assuming X_tensor and y_tensor are your torch tensors\n",
    "\n",
    "# Split the data into training and testing sets\n",
    "X_train, X_test, y_train, y_test = train_test_split(X_tensor, y_tensor, test_size=0.2, random_state=42)\n",
    "\n",
    "# Define the model architecture\n",
    "class Model(nn.Module):\n",
    "    def __init__(self, input_size, num_classes):\n",
    "        super(Model, self).__init__()\n",
    "        self.fc1 = nn.Linear(input_size, 64)\n",
    "        self.fc2 = nn.Linear(64, 32)\n",
    "        self.fc3 = nn.Linear(32, num_classes)\n",
    "        self.relu = nn.ReLU()\n",
    "        self.softmax = nn.Softmax(dim=1)\n",
    "\n",
    "    def forward(self, x):\n",
    "        x = self.relu(self.fc1(x))\n",
    "        x = self.relu(self.fc2(x))\n",
    "        x = self.fc3(x)\n",
    "        return self.softmax(x)\n",
    "\n",
    "# Initialize the model\n",
    "input_size = X_train.shape[1]\n",
    "num_classes = len(np.unique(y_train))\n",
    "model = Model(input_size, num_classes)\n",
    "\n",
    "# Define hyperparameters\n",
    "learning_rate = 0.001\n",
    "num_epochs = 20\n",
    "batch_size = 128\n",
    "\n",
    "# Define loss function\n",
    "criterion = nn.CrossEntropyLoss()\n",
    "\n",
    "# Define optimizer\n",
    "optimizer = torch.optim.Adam(model.parameters(), lr=learning_rate)\n",
    "\n",
    "# Create DataLoader for training\n",
    "train_dataset = TensorDataset(X_train, y_train)\n",
    "train_loader = DataLoader(train_dataset, batch_size=batch_size, shuffle=True)\n",
    "\n",
    "# Training loop\n",
    "for epoch in range(num_epochs):\n",
    "    for i, (inputs, labels) in enumerate(train_loader):\n",
    "        # Forward pass\n",
    "        outputs = model(inputs)\n",
    "        loss = criterion(outputs, labels)\n",
    "        \n",
    "        # Backward pass and optimization\n",
    "        optimizer.zero_grad()\n",
    "        loss.backward()\n",
    "        optimizer.step()\n",
    "        \n",
    "        if (i+1) % 100 == 0:\n",
    "            print(f'Epoch [{epoch+1}/{num_epochs}], Step [{i+1}/{len(train_loader)}], Loss: {loss.item():.4f}')\n",
    "\n",
    "# Evaluation\n",
    "with torch.no_grad():\n",
    "    outputs = model(X_test)\n",
    "    _, predicted = torch.max(outputs, 1)\n",
    "    accuracy = accuracy_score(y_test.numpy(), predicted.numpy())\n",
    "    print(f'Accuracy on test set: {accuracy:.2f}')\n"
   ]
  },
  {
   "cell_type": "code",
   "execution_count": null,
   "id": "0060a73a",
   "metadata": {},
   "outputs": [],
   "source": [
    "import torch\n",
    "import torch.nn as nn\n",
    "from torch.utils.data import DataLoader, TensorDataset\n",
    "import numpy as np\n",
    "from sklearn.model_selection import train_test_split\n",
    "from sklearn.preprocessing import LabelEncoder\n",
    "from sklearn.metrics import accuracy_score\n",
    "\n",
    "# Assuming X_tensor and y_tensor are your torch tensors\n",
    "\n",
    "# Split the data into training and testing sets\n",
    "X_train, X_test, y_train, y_test = train_test_split(X_tensor, y_tensor, test_size=0.2, random_state=42)\n",
    "\n",
    "# Define the model architecture\n",
    "class Model(nn.Module):\n",
    "    def __init__(self, input_size, num_classes):\n",
    "        super(Model, self).__init__()\n",
    "        self.fc1 = nn.Linear(input_size, 64)\n",
    "        self.fc2 = nn.Linear(64, 32)\n",
    "        self.fc3 = nn.Linear(32, num_classes)\n",
    "        self.relu = nn.ReLU()\n",
    "        self.softmax = nn.Softmax(dim=1)\n",
    "\n",
    "    def forward(self, x):\n",
    "        x = self.relu(self.fc1(x))\n",
    "        x = self.relu(self.fc2(x))\n",
    "        x = self.fc3(x)\n",
    "        return self.softmax(x)\n",
    "\n",
    "# Initialize the model\n",
    "input_size = X_train.shape[1]\n",
    "num_classes = len(np.unique(y_train))\n",
    "model = Model(input_size, num_classes)\n",
    "\n",
    "# Define hyperparameters\n",
    "learning_rate = 0.001\n",
    "num_epochs = 20\n",
    "batch_size = 128\n",
    "\n",
    "# Define loss function\n",
    "criterion = nn.CrossEntropyLoss()\n",
    "\n",
    "# Define optimizer\n",
    "optimizer = torch.optim.Adam(model.parameters(), lr=learning_rate)\n",
    "\n",
    "# Create DataLoader for training\n",
    "train_dataset = TensorDataset(X_train, y_train)\n",
    "train_loader = DataLoader(train_dataset, batch_size=batch_size, shuffle=True)\n",
    "\n",
    "# Training loop\n",
    "for epoch in range(num_epochs):\n",
    "    for i, (inputs, labels) in enumerate(train_loader):\n",
    "        # Forward pass\n",
    "        outputs = model(inputs)\n",
    "        loss = criterion(outputs, labels)\n",
    "        \n",
    "        # Backward pass and optimization\n",
    "        optimizer.zero_grad()\n",
    "        loss.backward()\n",
    "        optimizer.step()\n",
    "        \n",
    "        if (i+1) % 100 == 0:\n",
    "            print(f'Epoch [{epoch+1}/{num_epochs}], Step [{i+1}/{len(train_loader)}], Loss: {loss.item():.4f}')\n",
    "\n",
    "# Evaluation\n",
    "with torch.no_grad():\n",
    "    outputs = model(X_test)\n",
    "    _, predicted = torch.max(outputs, 1)\n",
    "    accuracy = accuracy_score(y_test.numpy(), predicted.numpy())\n",
    "    print(f'Accuracy on test set: {accuracy:.2f}')\n"
   ]
  },
  {
   "cell_type": "code",
   "execution_count": null,
   "id": "168cfcfb",
   "metadata": {},
   "outputs": [],
   "source": []
  }
 ],
 "metadata": {
  "kernelspec": {
   "display_name": "Python 3 (ipykernel)",
   "language": "python",
   "name": "python3"
  },
  "language_info": {
   "codemirror_mode": {
    "name": "ipython",
    "version": 3
   },
   "file_extension": ".py",
   "mimetype": "text/x-python",
   "name": "python",
   "nbconvert_exporter": "python",
   "pygments_lexer": "ipython3",
   "version": "3.9.15"
  }
 },
 "nbformat": 4,
 "nbformat_minor": 5
}
